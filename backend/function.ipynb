{
 "cells": [
  {
   "cell_type": "code",
   "execution_count": 1,
   "id": "d5b51849",
   "metadata": {},
   "outputs": [
    {
     "data": {
      "text/plain": [
       "dict_keys(['azure_agent'])"
      ]
     },
     "execution_count": 1,
     "metadata": {},
     "output_type": "execute_result"
    }
   ],
   "source": [
    "%load_ext autoreload\n",
    "%autoreload 2\n",
    "from agent import Agent\n",
    "import json\n",
    "\n",
    "# Load agent definition from the JSON file\n",
    "import pathlib\n",
    "\n",
    "agent_def_path = pathlib.Path(\"agent_definition.json\")\n",
    "if not agent_def_path.exists():\n",
    "    raise FileNotFoundError(f\"Agent definition file not found: {agent_def_path.resolve()}\")\n",
    "\n",
    "with agent_def_path.open(\"r\", encoding=\"utf-8\") as f:\n",
    "    agent_definition = json.load(f)\n",
    "\n",
    "# # Show the loaded definition\n",
    "\n",
    "agent_definition.keys()\n"
   ]
  },
  {
   "cell_type": "code",
   "execution_count": 2,
   "id": "82f62de2",
   "metadata": {},
   "outputs": [
    {
     "name": "stderr",
     "output_type": "stream",
     "text": [
      "INFO:semantic_kernel.connectors.ai.open_ai.services.open_ai_handler:OpenAI usage: CompletionUsage(completion_tokens=31, prompt_tokens=621, total_tokens=652, completion_tokens_details=CompletionTokensDetails(accepted_prediction_tokens=0, audio_tokens=0, reasoning_tokens=0, rejected_prediction_tokens=0), prompt_tokens_details=PromptTokensDetails(audio_tokens=0, cached_tokens=0))\n",
      "INFO:semantic_kernel.connectors.ai.chat_completion_client_base:processing 1 tool calls in parallel.\n",
      "INFO:semantic_kernel.kernel:Calling web_tools-list_links_with_descriptions_tool function with args: {\"url\":\"https://www.bbc.com\",\"max_links\":10}\n",
      "INFO:semantic_kernel.functions.kernel_function:Function web_tools-list_links_with_descriptions_tool invoking.\n",
      "INFO:semantic_kernel.functions.kernel_function:Function web_tools-list_links_with_descriptions_tool succeeded.\n",
      "INFO:semantic_kernel.functions.kernel_function:Function completed. Duration: 0.544783s\n",
      "INFO:semantic_kernel.connectors.ai.open_ai.services.open_ai_handler:OpenAI usage: CompletionUsage(completion_tokens=599, prompt_tokens=1034, total_tokens=1633, completion_tokens_details=CompletionTokensDetails(accepted_prediction_tokens=0, audio_tokens=0, reasoning_tokens=0, rejected_prediction_tokens=0), prompt_tokens_details=PromptTokensDetails(audio_tokens=0, cached_tokens=0))\n"
     ]
    }
   ],
   "source": [
    "agent_name = \"azure_agent\"\n",
    "# print(f\"Creating agent: {agent_name}\")\n",
    "# print(f\"Agent config: {agent_definition[agent_name]}\")\n",
    "agent = await Agent.create(agent_definition[agent_name])\n",
    "result = await agent.run_agent(\"what links are at bbc.com?\")\n"
   ]
  },
  {
   "cell_type": "code",
   "execution_count": null,
   "id": "c6e7a6fb",
   "metadata": {},
   "outputs": [],
   "source": [
    "# from semantic_kernel.agents import ChatCompletionAgent\n",
    "# from semantic_kernel.contents.chat_history import ChatHistory\n",
    "# from semantic_kernel.contents import ChatMessageContent, TextContent, ImageContent\n",
    "# from semantic_kernel.contents.utils.author_role import AuthorRole\n",
    "# from semantic_kernel.agents import ChatCompletionAgent, ChatHistoryAgentThread\n",
    "\n",
    "# # Initialize the chat history\n",
    "# chat_history = ChatHistory()\n",
    "# chat_history.add_system_message(\"You are a helpful assistant.\")\n",
    "\n",
    "\n",
    "# agent.thread = ChatHistoryAgentThread(ChatHistory())"
   ]
  },
  {
   "cell_type": "code",
   "execution_count": 5,
   "id": "7a764096",
   "metadata": {},
   "outputs": [
    {
     "data": {
      "text/plain": [
       "[{'name': 'list_links_with_descriptions_tool',\n",
       "  'arguments': {'now': '2025-08-25 10:45',\n",
       "   'url': 'https://www.bbc.com',\n",
       "   'max_links': 10},\n",
       "  'results': '{\\n  \"https://www.bbc.com/watch-live-news/\": \"Watch Live\",\\n  \"https://www.bbc.com/\": \"British Broadcasting Corporation\",\\n  \"https://www.bbc.com/news\": \"News\",\\n  \"https://www.bbc.com/sport\": \"Sport\",\\n  \"https://www.bbc.com/business\": \"Business\",\\n  \"https://www.bbc.com/innovation\": \"Innovation\",\\n  \"https://www.bbc.com/culture\": \"Culture\",\\n  \"https://www.bbc.com/arts\": \"Arts\",\\n  \"https://www.bbc.com/travel\": \"Travel\",\\n  \"https://www.bbc.com/future-planet\": \"Earth\"\\n}'}]"
      ]
     },
     "execution_count": 5,
     "metadata": {},
     "output_type": "execute_result"
    }
   ],
   "source": [
    "result[\"tools_called\"]"
   ]
  },
  {
   "cell_type": "code",
   "execution_count": null,
   "id": "c134b56d",
   "metadata": {},
   "outputs": [],
   "source": [
    "import pprint\n",
    "\n",
    "# Extract messages as a list of dictionaries\n",
    "messages = [\n",
    "    {\"role\": message.role, \"content\": message.content}\n",
    "    for message in agent.thread._chat_history.messages\n",
    "]\n",
    "\n",
    "# Convert to JSON\n",
    "pprint.pprint(messages, indent=2, width=100)\n"
   ]
  },
  {
   "cell_type": "code",
   "execution_count": null,
   "id": "e8ae856f",
   "metadata": {},
   "outputs": [],
   "source": [
    "# Display messages from the agent thread (agent.thread.get_messages() is an async generator)\n",
    "async for message in agent.thread.get_messages():\n",
    "    print(message)\n",
    "\n",
    "# If you need them later synchronously, use the collected list `msgs`"
   ]
  },
  {
   "cell_type": "code",
   "execution_count": null,
   "id": "8db2ae45",
   "metadata": {},
   "outputs": [],
   "source": [
    "result"
   ]
  },
  {
   "cell_type": "code",
   "execution_count": null,
   "id": "7b225ef1",
   "metadata": {},
   "outputs": [],
   "source": [
    "\n",
    "agents = list(agent_definition.keys())\n",
    "agents"
   ]
  },
  {
   "cell_type": "code",
   "execution_count": null,
   "id": "52d2ecbd",
   "metadata": {},
   "outputs": [],
   "source": [
    "async for res in result:\n",
    "    print(res)"
   ]
  },
  {
   "cell_type": "code",
   "execution_count": null,
   "id": "79d50e5b",
   "metadata": {},
   "outputs": [],
   "source": [
    "result.get(\"thoughts\")"
   ]
  },
  {
   "cell_type": "code",
   "execution_count": null,
   "id": "f5653c27",
   "metadata": {},
   "outputs": [],
   "source": [
    "result.get(\"tool_calls\")[0]"
   ]
  },
  {
   "cell_type": "code",
   "execution_count": null,
   "id": "5637e5df",
   "metadata": {},
   "outputs": [],
   "source": [
    "result.get(\"messages\")"
   ]
  },
  {
   "cell_type": "code",
   "execution_count": null,
   "id": "051db4ee",
   "metadata": {},
   "outputs": [],
   "source": [
    "# await ff_agent.run_agent(\"what is in my db??\")"
   ]
  }
 ],
 "metadata": {
  "kernelspec": {
   "display_name": ".venv",
   "language": "python",
   "name": "python3"
  },
  "language_info": {
   "codemirror_mode": {
    "name": "ipython",
    "version": 3
   },
   "file_extension": ".py",
   "mimetype": "text/x-python",
   "name": "python",
   "nbconvert_exporter": "python",
   "pygments_lexer": "ipython3",
   "version": "3.12.10"
  }
 },
 "nbformat": 4,
 "nbformat_minor": 5
}
