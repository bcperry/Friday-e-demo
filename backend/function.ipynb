{
 "cells": [
  {
   "cell_type": "code",
   "execution_count": null,
   "id": "d5b51849",
   "metadata": {},
   "outputs": [],
   "source": [
    "%load_ext autoreload\n",
    "%autoreload 2\n",
    "from agent import Agent\n",
    "import json\n",
    "\n",
    "# Load agent definition from the JSON file\n",
    "import pathlib\n",
    "\n",
    "agent_def_path = pathlib.Path(\"agent_definition.json\")\n",
    "if not agent_def_path.exists():\n",
    "    raise FileNotFoundError(f\"Agent definition file not found: {agent_def_path.resolve()}\")\n",
    "\n",
    "with agent_def_path.open(\"r\", encoding=\"utf-8\") as f:\n",
    "    agent_definition = json.load(f)\n",
    "\n",
    "# # Show the loaded definition\n",
    "\n",
    "agent_definition.keys()\n"
   ]
  },
  {
   "cell_type": "code",
   "execution_count": null,
   "id": "82f62de2",
   "metadata": {},
   "outputs": [],
   "source": [
    "agent_name = \"azure_agent\"\n",
    "# print(f\"Creating agent: {agent_name}\")\n",
    "# print(f\"Agent config: {agent_definition[agent_name]}\")\n",
    "agent = await Agent.create(agent_definition[agent_name])\n",
    "result = await agent.run_agent(\"what links are at bbc.com?\")"
   ]
  },
  {
   "cell_type": "code",
   "execution_count": null,
   "id": "7a764096",
   "metadata": {},
   "outputs": [],
   "source": [
    "result[\"tools_called\"]"
   ]
  },
  {
   "cell_type": "code",
   "execution_count": null,
   "id": "c134b56d",
   "metadata": {},
   "outputs": [],
   "source": [
    "import pprint\n",
    "\n",
    "# Extract messages as a list of dictionaries\n",
    "messages = [\n",
    "    {\"role\": message.role, \"content\": message.content}\n",
    "    for message in agent.thread._chat_history.messages\n",
    "]\n",
    "\n",
    "# Convert to JSON\n",
    "pprint.pprint(messages, indent=2, width=100)\n"
   ]
  },
  {
   "cell_type": "code",
   "execution_count": null,
   "id": "e8ae856f",
   "metadata": {},
   "outputs": [],
   "source": [
    "# Display messages from the agent thread (agent.thread.get_messages() is an async generator)\n",
    "async for message in agent.thread.get_messages():\n",
    "    print(message)\n",
    "\n",
    "# If you need them later synchronously, use the collected list `msgs`"
   ]
  },
  {
   "cell_type": "code",
   "execution_count": null,
   "id": "8db2ae45",
   "metadata": {},
   "outputs": [],
   "source": [
    "result"
   ]
  },
  {
   "cell_type": "code",
   "execution_count": null,
   "id": "7b225ef1",
   "metadata": {},
   "outputs": [],
   "source": [
    "\n",
    "agents = list(agent_definition.keys())\n",
    "agents"
   ]
  },
  {
   "cell_type": "code",
   "execution_count": null,
   "id": "52d2ecbd",
   "metadata": {},
   "outputs": [],
   "source": [
    "async for res in result:\n",
    "    print(res)"
   ]
  },
  {
   "cell_type": "code",
   "execution_count": null,
   "id": "79d50e5b",
   "metadata": {},
   "outputs": [],
   "source": [
    "result.get(\"thoughts\")"
   ]
  },
  {
   "cell_type": "code",
   "execution_count": null,
   "id": "f5653c27",
   "metadata": {},
   "outputs": [],
   "source": [
    "result.get(\"tool_calls\")[0]"
   ]
  },
  {
   "cell_type": "code",
   "execution_count": null,
   "id": "5637e5df",
   "metadata": {},
   "outputs": [],
   "source": [
    "result.get(\"messages\")"
   ]
  },
  {
   "cell_type": "code",
   "execution_count": null,
   "id": "051db4ee",
   "metadata": {},
   "outputs": [],
   "source": [
    "# await ff_agent.run_agent(\"what is in my db??\")"
   ]
  }
 ],
 "metadata": {
  "kernelspec": {
   "display_name": ".venv",
   "language": "python",
   "name": "python3"
  },
  "language_info": {
   "codemirror_mode": {
    "name": "ipython",
    "version": 3
   },
   "file_extension": ".py",
   "mimetype": "text/x-python",
   "name": "python",
   "nbconvert_exporter": "python",
   "pygments_lexer": "ipython3",
   "version": "3.12.10"
  }
 },
 "nbformat": 4,
 "nbformat_minor": 5
}
